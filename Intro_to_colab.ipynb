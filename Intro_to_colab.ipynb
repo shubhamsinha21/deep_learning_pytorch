{
  "nbformat": 4,
  "nbformat_minor": 0,
  "metadata": {
    "colab": {
      "provenance": [],
      "gpuType": "T4",
      "authorship_tag": "ABX9TyNcq//6j8njiewcTkCVM9Ew",
      "include_colab_link": true
    },
    "kernelspec": {
      "name": "python3",
      "display_name": "Python 3"
    },
    "language_info": {
      "name": "python"
    },
    "accelerator": "GPU"
  },
  "cells": [
    {
      "cell_type": "markdown",
      "metadata": {
        "id": "view-in-github",
        "colab_type": "text"
      },
      "source": [
        "<a href=\"https://colab.research.google.com/github/shubhamsinha21/deep_learning_pytorch/blob/main/Intro_to_colab.ipynb\" target=\"_parent\"><img src=\"https://colab.research.google.com/assets/colab-badge.svg\" alt=\"Open In Colab\"/></a>"
      ]
    },
    {
      "cell_type": "code",
      "source": [
        "myList = [[1,2,3,4], [5,6,7,8]]\n",
        "myList"
      ],
      "metadata": {
        "colab": {
          "base_uri": "https://localhost:8080/"
        },
        "id": "TekK2v46N6TW",
        "outputId": "c4362b17-5696-4b65-b67b-3088d415b6fb"
      },
      "execution_count": null,
      "outputs": [
        {
          "output_type": "execute_result",
          "data": {
            "text/plain": [
              "[[1, 2, 3, 4], [5, 6, 7, 8]]"
            ]
          },
          "metadata": {},
          "execution_count": 1
        }
      ]
    },
    {
      "cell_type": "code",
      "source": [
        "import numpy as np\n",
        "np1 = np.random.rand(3,4)\n",
        "np1"
      ],
      "metadata": {
        "colab": {
          "base_uri": "https://localhost:8080/"
        },
        "id": "tcg3BhosOKNg",
        "outputId": "4bdc6d00-f5d6-49c3-b9c8-999d8969d341"
      },
      "execution_count": null,
      "outputs": [
        {
          "output_type": "execute_result",
          "data": {
            "text/plain": [
              "array([[0.88102284, 0.42055779, 0.23076896, 0.33390557],\n",
              "       [0.88777254, 0.71640769, 0.63459152, 0.92428552],\n",
              "       [0.51230321, 0.26926366, 0.98201518, 0.88187133]])"
            ]
          },
          "metadata": {},
          "execution_count": 2
        }
      ]
    },
    {
      "cell_type": "markdown",
      "source": [
        "**TENSOR**\n",
        "(Creating a pytorch 2d tensor)"
      ],
      "metadata": {
        "id": "jsOI2grDOxXl"
      }
    },
    {
      "cell_type": "code",
      "source": [
        "import torch\n",
        "tensor_2d = torch.randn(3,4)\n",
        "tensor_2d"
      ],
      "metadata": {
        "colab": {
          "base_uri": "https://localhost:8080/"
        },
        "id": "6p0JhhIMOznD",
        "outputId": "e23913a9-91eb-4ab1-df56-fb200de3129e"
      },
      "execution_count": null,
      "outputs": [
        {
          "output_type": "execute_result",
          "data": {
            "text/plain": [
              "tensor([[ 0.7575, -0.4784, -1.0925,  0.0685],\n",
              "        [ 1.0653,  0.4483,  2.6467,  1.4122],\n",
              "        [ 0.0622,  0.2454,  1.6882, -0.4113]])"
            ]
          },
          "metadata": {},
          "execution_count": 3
        }
      ]
    },
    {
      "cell_type": "code",
      "source": [
        "tensor_3d = torch.zeros(2,3,4)\n",
        "tensor_3d\n"
      ],
      "metadata": {
        "colab": {
          "base_uri": "https://localhost:8080/"
        },
        "id": "ONdteTlBWuVq",
        "outputId": "5841e63e-fbed-4cab-8c7b-81480e4c7e96"
      },
      "execution_count": null,
      "outputs": [
        {
          "output_type": "execute_result",
          "data": {
            "text/plain": [
              "tensor([[[0., 0., 0., 0.],\n",
              "         [0., 0., 0., 0.],\n",
              "         [0., 0., 0., 0.]],\n",
              "\n",
              "        [[0., 0., 0., 0.],\n",
              "         [0., 0., 0., 0.],\n",
              "         [0., 0., 0., 0.]]])"
            ]
          },
          "metadata": {},
          "execution_count": 5
        }
      ]
    },
    {
      "cell_type": "code",
      "source": [
        "# create tensor out of numpy array\n",
        "my_tensor = torch.tensor(np1)\n",
        "my_tensor"
      ],
      "metadata": {
        "colab": {
          "base_uri": "https://localhost:8080/"
        },
        "id": "_pEfRAW9Xyux",
        "outputId": "7cb1db28-ba65-4d2f-e592-12e89592c1ae"
      },
      "execution_count": null,
      "outputs": [
        {
          "output_type": "execute_result",
          "data": {
            "text/plain": [
              "tensor([[0.8810, 0.4206, 0.2308, 0.3339],\n",
              "        [0.8878, 0.7164, 0.6346, 0.9243],\n",
              "        [0.5123, 0.2693, 0.9820, 0.8819]], dtype=torch.float64)"
            ]
          },
          "metadata": {},
          "execution_count": 7
        }
      ]
    }
  ]
}